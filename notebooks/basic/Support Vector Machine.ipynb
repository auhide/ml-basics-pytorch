{
 "cells": [
  {
   "cell_type": "markdown",
   "metadata": {},
   "source": [
    "# Soft Margin Support Vector Machine\n",
    "___\n",
    "See the code [here]()."
   ]
  },
  {
   "cell_type": "markdown",
   "metadata": {},
   "source": [
    "## 1. Libraries"
   ]
  },
  {
   "cell_type": "code",
   "execution_count": 73,
   "metadata": {},
   "outputs": [],
   "source": [
    "import os\n",
    "import sys\n",
    "\n",
    "\n",
    "# Adding the path to the algorithms modules\n",
    "ROOT_PATH = os.path.join(\"..\", \"..\", \"algos\", \"basic\")\n",
    "sys.path.append(ROOT_PATH)\n",
    "\n",
    "import torch\n",
    "from sklearn.datasets import make_blobs\n",
    "from sklearn.model_selection import train_test_split\n",
    "import matplotlib.pyplot as plt\n",
    "\n",
    "from svm import SupportVectorMachine"
   ]
  },
  {
   "cell_type": "markdown",
   "metadata": {},
   "source": [
    "## 2. Dataset"
   ]
  },
  {
   "cell_type": "markdown",
   "metadata": {},
   "source": [
    "### 2.1. Generating the dataset"
   ]
  },
  {
   "cell_type": "code",
   "execution_count": 74,
   "metadata": {},
   "outputs": [
    {
     "name": "stdout",
     "output_type": "stream",
     "text": [
      "X shape: (150, 2)\n",
      "y shape: (150,)\n"
     ]
    }
   ],
   "source": [
    "# Creating a mock dataset.\n",
    "X, y = make_blobs(\n",
    "    n_samples=150, centers=[(-2, -2), (0, 0)], cluster_std=0.5\n",
    ")\n",
    "\n",
    "# Setting all 0s to -1s, since that's expected by the binary SVM algorithm.\n",
    "y[y == 0] = -1\n",
    "\n",
    "print(f\"X shape: {X.shape}\")\n",
    "print(f\"y shape: {y.shape}\")\n"
   ]
  },
  {
   "cell_type": "markdown",
   "metadata": {},
   "source": [
    "### 2.2. Plotting the dataset"
   ]
  },
  {
   "cell_type": "code",
   "execution_count": 75,
   "metadata": {},
   "outputs": [
    {
     "data": {
      "image/png": "[encoded data removed]",
      "text/plain": [
       "<Figure size 432x288 with 1 Axes>"
      ]
     },
     "metadata": {
      "needs_background": "light"
     },
     "output_type": "display_data"
    }
   ],
   "source": [
    "def plot_dataset(X, y, colors={-1: \"red\", 1: \"blue\"}, title=\"Dataset\"):\n",
    "    # Plot the two classes\n",
    "    for i in range(len(y)):\n",
    "        plt.scatter(X[i, 0], X[i, 1], color=colors[y[i]])\n",
    "\n",
    "    plt.title(title)\n",
    "    plt.xlabel(\"Feature 1\")\n",
    "    plt.ylabel(\"Feature 2\")\n",
    "\n",
    "\n",
    "plot_dataset(X, y, title=\"Dataset plot\")\n",
    "plt.show()"
   ]
  },
  {
   "cell_type": "markdown",
   "metadata": {},
   "source": [
    "## 3. Training and evaluation"
   ]
  },
  {
   "cell_type": "markdown",
   "metadata": {},
   "source": [
    "### 3.1. Training\n",
    "\n",
    "The idea behind the standard (binary) SVM is to find a decision boundary between two different classes. Then, based on this boundary, we can differentiate them.\n",
    "\n",
    "The implemented SVM here is a **Soft Margin** one, which simply means that it **doesn't expect the dataset to be perfectly linearly separable**, i.e. the cluster of one class can sometimes have samples of the other one, which is expected in real life cases.\n",
    "\n",
    "#### 3.1.1. Hard Margin SVM\n",
    "Firstly, we will look at the more primitive way of solving this problem. It is called the *Hard Margin* SVM. Let's start by defining the *feature matrix* $X \\in \\mathbb{R}^{m \\times n}$, the ground truth vector $\\textbf{y} \\in \\mathbb{R}^{m \\times 1}$ and the weights vector $\\textbf{w} \\in \\mathbb{R}^{n \\times 1}$.\n",
    "\n",
    "As we know every hyperplane can be described as the set of points $\\textbf{x}_i \\in \\mathbb{R}^{n}$ that satisfy the equation $\\textbf{w}^{\\intercal}\\textbf{x} - b = 0$, where $\\textbf{w}$ is the normal vector to the hyperplane.\n",
    "Instead of using a separate vector for the bias $\\textbf{b}$, we will change the structure of $X$ and $\\textbf{w}$:\n",
    "$$ X = concat \\left( X, \\textbf{1} \\right) = concat \\left(\n",
    "    \\left[ {\\begin{array}{cc}\n",
    "      x_{11} & \\dots & x_{1n}\\\\\n",
    "      \\vdots & \\ddots & \\vdots \\\\\n",
    "      x_{m1} & \\dots & x_{mn}\\\\\n",
    "    \\end{array} } \n",
    "    \\right], \n",
    "    \\left[\n",
    "      \\begin{array}{cc}\n",
    "      1 \\\\ \\vdots \\\\ 1\n",
    "      \\end{array}\n",
    "    \\right]\n",
    "  \\right) = \\left[ {\\begin{array}{cc}\n",
    "      x_{11} & \\dots & x_{1n} & 1 \\\\\n",
    "      \\vdots & \\ddots & \\vdots & \\vdots \\\\\n",
    "      x_{m1} & \\dots & x_{mn} & 1 \\\\\n",
    "    \\end{array} } \n",
    "    \\right]\n",
    "$$\n",
    "\n",
    "and since the shape of $\\textbf{w}$ depends on the dimensions of $X$, $\\textbf{w} \\in \\mathbb{R}^{n + 1 \\times 1} $, it's $n + 1$ because we've added a new column vector to $X$. \n",
    "\n",
    "After the changes above, the hyperplane equation is $\\textbf{w}^\\intercal \\textbf{x} = 0$.\n",
    "Similarly, we can define two other hyperplanes:\n",
    "- $\\textbf{w}^\\intercal \\textbf{x} = 1$ - anything on or above this hyperplane is classified as 1\n",
    "- $\\textbf{w}^\\intercal \\textbf{x} = -1$ - anything on or above this hyperplane is classified as -1\n",
    "\n",
    "The region bounded by these two hyperplanes is called the **margin**. Its size is $\\frac{2}{||\\textbf{w}||}$, where $||\\textbf{w}||$ is the L2 norm of $\\textbf{w}$.\n",
    "A great overall explanation and derivation can be found in this [MIT lecture](https://www.youtube.com/watch?v=_PwhiWxHK8o).\n",
    "\n",
    "After we've found out what the margin is, we realize that our objective is to maximize $\\frac{2}{||\\textbf{w}||}$, which is equal to minimizing $||\\textbf{w}||$. To prevent data points from falling into the margin, we add these constraints:\n",
    "- $\\textbf{w}^\\intercal \\textbf{x} \\ge 1$, when $y_i = 1$\n",
    "- $\\textbf{w}^\\intercal \\textbf{x} \\le -1$, when $y_i = -1$\n",
    "\n",
    "These constraints can be merge into one:\n",
    "$$ y_i(\\textbf{w}^\\intercal\\textbf{x}_i) \\ge 1 $$\n",
    "which in matrix-vector form is:\n",
    "$$ \\textbf{y}\\left( X\\textbf{w} \\right) \\ge 1 $$\n",
    "\n",
    "Then, the *Hard Margin* optimization problem can be concisely written as:\n",
    "$$ \\min_{\\textbf{w}} \\quad ||\\textbf{w}|| $$\n",
    "$$ \\textrm{subject to} \\quad \\textbf{y}\\left( X\\textbf{w} \\right) \\ge 1 $$\n",
    "\n",
    "#### 3.1.2. Soft Margin SVM\n",
    "Since the data in the real world is rarely perfectly linearly separable, the *Hinge Loss function* $hl$ is introduced:\n",
    "$$ hl(x) = \\max(0,1 - x) $$\n",
    "Maybe the best intuitive explanation that I've found about why we use $hl$ is [this video](https://www.youtube.com/watch?v=IjSfa7Q8ngs).\n",
    "\n",
    "If the *Hard Margin* equation is transformed into its *Soft Margin* form (using the *Hinge Loss*), we arrive at this minimization problem:\n",
    "$$ \\min_{\\textbf{w}} \\quad \\frac{1}{m}hl\\left(\\textbf{y}\\left( X\\textbf{w} \\right) \\right) + \\lambda||\\textbf{w}||^2 $$\n",
    "where $\\lambda$ is a positive number that allows us to tune how much we care about maximizing the margin $\\frac{2}{||\\textbf{w}||}$, with respect to minimizing the error $\\frac{1}{m}hl\\left(\\textbf{y}\\left( X\\textbf{w} \\right) \\right)$.\n",
    "\n",
    "The function that should be minimized is used in the [code](https://github.com/auhide/ml-basics-pytorch/blob/main/algos/basic/svm.py), in the method `fit()`.\n",
    "\n",
    "#### 3.1.3. Useful Resources\n",
    "1. [Support vector machine, Wikipedia](https://en.wikipedia.org/wiki/Support_vector_machine)\n",
    "2. [MIT 6.034, Learning: Support Vector Machines, Patrick Winston](https://www.youtube.com/watch?v=_PwhiWxHK8o)\n",
    "3. [Soft Margin SVM: Data Science Concepts, ritvikmath](https://www.youtube.com/watch?v=IjSfa7Q8ngs)"
   ]
  },
  {
   "cell_type": "code",
   "execution_count": 76,
   "metadata": {},
   "outputs": [
    {
     "name": "stdout",
     "output_type": "stream",
     "text": [
      "Starting the training...\n",
      "Printing the loss for each 20 epochs.\n",
      "Loss: 6.09\n"
     ]
    }
   ],
   "source": [
    "X, y = torch.Tensor(X), torch.Tensor(y).unsqueeze(-1)\n",
    "\n",
    "X_train, X_valid, y_train, y_valid = train_test_split(\n",
    "    X, y, \n",
    "    test_size=0.2, random_state=42\n",
    ")\n",
    "\n",
    "print(\"Starting the training...\")\n",
    "print(\"Printing the loss for each 20 epochs.\")\n",
    "svm = SupportVectorMachine()\n",
    "svm.fit(X_train, y_train, iters=20, lambda_=5)"
   ]
  },
  {
   "cell_type": "markdown",
   "metadata": {},
   "source": [
    "### 3.2. Model Evaluation"
   ]
  },
  {
   "cell_type": "code",
   "execution_count": 77,
   "metadata": {},
   "outputs": [
    {
     "name": "stdout",
     "output_type": "stream",
     "text": [
      "Evaluation loss: 2.29\n"
     ]
    }
   ],
   "source": [
    "eval_loss = svm.evaluate(X_valid, y_valid)\n",
    "print(f\"Evaluation loss: {eval_loss:.2f}\")"
   ]
  },
  {
   "cell_type": "code",
   "execution_count": 78,
   "metadata": {},
   "outputs": [
    {
     "data": {
      "text/plain": [
       "[]"
      ]
     },
     "execution_count": 78,
     "metadata": {},
     "output_type": "execute_result"
    },
    {
     "data": {
      "image/png": "[encoded data removed]",
      "text/plain": [
       "<Figure size 432x288 with 1 Axes>"
      ]
     },
     "metadata": {
      "needs_background": "light"
     },
     "output_type": "display_data"
    }
   ],
   "source": [
    "y_pred = svm.predict(X).squeeze(-1).detach().numpy()\n",
    "y_pred[y_pred >= 0] = 1\n",
    "y_pred[y_pred < 0] = -1\n",
    "\n",
    "plot_dataset(X, y_pred.round(), title=\"Predicted classes\")\n",
    "plt.plot()"
   ]
  }
 ],
 "metadata": {
  "kernelspec": {
   "display_name": "Python 3.9.13 64-bit",
   "language": "python",
   "name": "python3"
  },
  "language_info": {
   "codemirror_mode": {
    "name": "ipython",
    "version": 3
   },
   "file_extension": ".py",
   "mimetype": "text/x-python",
   "name": "python",
   "nbconvert_exporter": "python",
   "pygments_lexer": "ipython3",
   "version": "3.9.13"
  },
  "orig_nbformat": 4,
  "vscode": {
   "interpreter": {
    "hash": "8100bb27ef6f27bb6b63ba202e13f32f0dffed430e6a4d162d3986e448f218b2"
   }
  }
 },
 "nbformat": 4,
 "nbformat_minor": 2
}
