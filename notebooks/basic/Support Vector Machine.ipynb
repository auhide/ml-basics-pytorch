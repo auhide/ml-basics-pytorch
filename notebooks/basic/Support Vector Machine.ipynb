{
 "cells": [
  {
   "cell_type": "markdown",
   "metadata": {},
   "source": [
    "# Soft Margin Support Vector Machine\n",
    "___\n",
    "See the code [here]()."
   ]
  },
  {
   "cell_type": "markdown",
   "metadata": {},
   "source": [
    "## 1. Libraries"
   ]
  },
  {
   "cell_type": "code",
   "execution_count": 1,
   "metadata": {},
   "outputs": [],
   "source": [
    "import os\n",
    "import sys\n",
    "\n",
    "\n",
    "# Adding the path to the algorithms modules\n",
    "ROOT_PATH = os.path.join(\"..\", \"..\", \"algos\", \"basic\")\n",
    "sys.path.append(ROOT_PATH)\n",
    "\n",
    "import torch\n",
    "from sklearn.datasets import make_classification\n",
    "from sklearn.model_selection import train_test_split\n",
    "import matplotlib.pyplot as plt\n",
    "\n",
    "from svm import SupportVectorMachine"
   ]
  },
  {
   "cell_type": "markdown",
   "metadata": {},
   "source": [
    "## 2. Dataset"
   ]
  },
  {
   "cell_type": "markdown",
   "metadata": {},
   "source": [
    "### 2.1. Generating the dataset"
   ]
  },
  {
   "cell_type": "code",
   "execution_count": 2,
   "metadata": {},
   "outputs": [
    {
     "name": "stdout",
     "output_type": "stream",
     "text": [
      "X shape: (150, 2)\n",
      "y shape: (150,)\n"
     ]
    }
   ],
   "source": [
    "# Creating a mock dataset with sklearn\n",
    "X, y = make_classification(\n",
    "    n_samples=150,\n",
    "    n_features=2,\n",
    "    n_informative=2,\n",
    "    n_redundant=0,\n",
    "    n_classes=2,\n",
    "    n_clusters_per_class=2,\n",
    "    random_state=42\n",
    ")\n",
    "# Setting all 0s to 1s, since that's expected by the binary SVM algorithm.\n",
    "y[y == 0] = -1\n",
    "\n",
    "print(f\"X shape: {X.shape}\")\n",
    "print(f\"y shape: {y.shape}\")\n"
   ]
  },
  {
   "cell_type": "markdown",
   "metadata": {},
   "source": [
    "### 2.2. Plotting the dataset"
   ]
  },
  {
   "cell_type": "code",
   "execution_count": 3,
   "metadata": {},
   "outputs": [
    {
     "data": {
      "image/png": "[encoded data removed]",
      "text/plain": [
       "<Figure size 432x288 with 1 Axes>"
      ]
     },
     "metadata": {
      "needs_background": "light"
     },
     "output_type": "display_data"
    }
   ],
   "source": [
    "def plot_dataset(X, y, colors={-1: \"red\", 1: \"blue\"}, title=\"Dataset\"):\n",
    "    # Plot the two classes\n",
    "    for i in range(len(y)):\n",
    "        plt.scatter(X[i, 0], X[i, 1], color=colors[y[i]])\n",
    "\n",
    "    plt.title(title)\n",
    "    plt.xlabel(\"Feature 1\")\n",
    "    plt.ylabel(\"Feature 2\")\n",
    "    plt.show()\n",
    "\n",
    "\n",
    "plot_dataset(X, y, title=\"Dataset plot\")"
   ]
  },
  {
   "cell_type": "markdown",
   "metadata": {},
   "source": [
    "## 3. Training and evaluation"
   ]
  },
  {
   "cell_type": "markdown",
   "metadata": {},
   "source": [
    "### 3.1. Training"
   ]
  },
  {
   "cell_type": "code",
   "execution_count": 4,
   "metadata": {},
   "outputs": [
    {
     "name": "stdout",
     "output_type": "stream",
     "text": [
      "Starting the training...\n",
      "Printing the loss for each 20 epochs.\n",
      "Loss: 4.10\n",
      "Loss: 0.10\n"
     ]
    }
   ],
   "source": [
    "X, y = torch.Tensor(X), torch.Tensor(y)\n",
    "\n",
    "X_train, X_valid, y_train, y_valid = train_test_split(\n",
    "    X, y, \n",
    "    test_size=0.2, random_state=42\n",
    ")\n",
    "\n",
    "print(\"Starting the training...\")\n",
    "print(\"Printing the loss for each 20 epochs.\")\n",
    "svm = SupportVectorMachine()\n",
    "svm.fit(X_train, y_train, iters=40)"
   ]
  },
  {
   "cell_type": "markdown",
   "metadata": {},
   "source": [
    "### 3.2. Model Evaluation"
   ]
  },
  {
   "cell_type": "code",
   "execution_count": 5,
   "metadata": {},
   "outputs": [
    {
     "name": "stdout",
     "output_type": "stream",
     "text": [
      "torch.Size([30, 2]) torch.Size([3, 1])\n",
      "Evaluation loss: 0.10\n"
     ]
    }
   ],
   "source": [
    "eval_loss = svm.evaluate(X_valid, y_valid)\n",
    "print(f\"Evaluation loss: {eval_loss:.2f}\")"
   ]
  },
  {
   "cell_type": "code",
   "execution_count": 7,
   "metadata": {},
   "outputs": [
    {
     "name": "stdout",
     "output_type": "stream",
     "text": [
      "torch.Size([150, 3])\n",
      "[0.06299993 0.04040655 0.04646794 0.053669   0.05765293 0.04879089\n",
      " 0.05434649 0.05036549 0.06302421 0.04736057 0.05089856 0.04991405\n",
      " 0.05310483 0.05258923 0.05674085 0.05677981 0.05609554 0.04977703\n",
      " 0.05128291 0.04817399 0.04966421 0.04932096 0.05132815 0.04972716\n",
      " 0.06187861 0.05025858 0.04759694 0.05690588 0.05060322 0.05197296\n",
      " 0.05821539 0.05227226 0.06022665 0.05109617 0.05331981 0.05026534\n",
      " 0.0494316  0.05128957 0.05454357 0.05722558 0.0392491  0.05317751\n",
      " 0.04556813 0.03884979 0.05940537 0.05182303 0.05269474 0.04838665\n",
      " 0.05030833 0.05922926 0.05027888 0.04536125 0.0511659  0.05027857\n",
      " 0.05648838 0.05476956 0.05763504 0.04650616 0.04739076 0.04246107\n",
      " 0.055101   0.0523997  0.05415333 0.04930747 0.05311151 0.05317949\n",
      " 0.0492332  0.05469197 0.06008771 0.05530549 0.04339107 0.05163348\n",
      " 0.05076826 0.05229028 0.05491215 0.05252146 0.04091403 0.04825264\n",
      " 0.04363815 0.05201055 0.05134718 0.04499647 0.05463156 0.05408134\n",
      " 0.06056335 0.05341842 0.04387122 0.03880534 0.05238386 0.05225998\n",
      " 0.05411131 0.04521329 0.05166811 0.04957165 0.05151371 0.04959979\n",
      " 0.03901063 0.05840828 0.0493286  0.05530528 0.04908897 0.05323222\n",
      " 0.05158395 0.04726705 0.0499776  0.05189813 0.04784292 0.05725567\n",
      " 0.04923745 0.05352454 0.05018359 0.0624111  0.05145039 0.04554164\n",
      " 0.0489542  0.04945723 0.0526679  0.05518796 0.05452208 0.04756996\n",
      " 0.04231223 0.04731721 0.04393044 0.04317434 0.04717937 0.0487218\n",
      " 0.0505338  0.04802268 0.05362141 0.05557328 0.0611059  0.04994951\n",
      " 0.05070079 0.05476701 0.04763564 0.05163896 0.05182865 0.05121358\n",
      " 0.05616035 0.04725938 0.05280343 0.04818744 0.061016   0.04941375\n",
      " 0.04962462 0.04965939 0.05745277 0.05382496 0.05580682 0.05558962]\n"
     ]
    },
    {
     "ename": "KeyError",
     "evalue": "0.0",
     "output_type": "error",
     "traceback": [
      "\u001b[1;31m---------------------------------------------------------------------------\u001b[0m",
      "\u001b[1;31mKeyError\u001b[0m                                  Traceback (most recent call last)",
      "\u001b[1;32md:\\machine-learning\\ml-basics-pytorch\\notebooks\\basic\\Support Vector Machine.ipynb Cell 14\u001b[0m in \u001b[0;36m<cell line: 3>\u001b[1;34m()\u001b[0m\n\u001b[0;32m      <a href='vscode-notebook-cell:/d%3A/machine-learning/ml-basics-pytorch/notebooks/basic/Support%20Vector%20Machine.ipynb#X33sZmlsZQ%3D%3D?line=0'>1</a>\u001b[0m y_pred \u001b[39m=\u001b[39m svm\u001b[39m.\u001b[39mpredict(X)\u001b[39m.\u001b[39msqueeze(\u001b[39m-\u001b[39m\u001b[39m1\u001b[39m)\u001b[39m.\u001b[39mdetach()\u001b[39m.\u001b[39mnumpy()\n\u001b[0;32m      <a href='vscode-notebook-cell:/d%3A/machine-learning/ml-basics-pytorch/notebooks/basic/Support%20Vector%20Machine.ipynb#X33sZmlsZQ%3D%3D?line=1'>2</a>\u001b[0m \u001b[39mprint\u001b[39m(y_pred)\n\u001b[1;32m----> <a href='vscode-notebook-cell:/d%3A/machine-learning/ml-basics-pytorch/notebooks/basic/Support%20Vector%20Machine.ipynb#X33sZmlsZQ%3D%3D?line=2'>3</a>\u001b[0m plot_dataset(X, y_pred\u001b[39m.\u001b[39;49mround(), title\u001b[39m=\u001b[39;49m\u001b[39m\"\u001b[39;49m\u001b[39mPredicted classes\u001b[39;49m\u001b[39m\"\u001b[39;49m)\n",
      "\u001b[1;32md:\\machine-learning\\ml-basics-pytorch\\notebooks\\basic\\Support Vector Machine.ipynb Cell 14\u001b[0m in \u001b[0;36mplot_dataset\u001b[1;34m(X, y, colors, title)\u001b[0m\n\u001b[0;32m      <a href='vscode-notebook-cell:/d%3A/machine-learning/ml-basics-pytorch/notebooks/basic/Support%20Vector%20Machine.ipynb#X33sZmlsZQ%3D%3D?line=0'>1</a>\u001b[0m \u001b[39mdef\u001b[39;00m \u001b[39mplot_dataset\u001b[39m(X, y, colors\u001b[39m=\u001b[39m{\u001b[39m-\u001b[39m\u001b[39m1\u001b[39m: \u001b[39m\"\u001b[39m\u001b[39mred\u001b[39m\u001b[39m\"\u001b[39m, \u001b[39m1\u001b[39m: \u001b[39m\"\u001b[39m\u001b[39mblue\u001b[39m\u001b[39m\"\u001b[39m}, title\u001b[39m=\u001b[39m\u001b[39m\"\u001b[39m\u001b[39mDataset\u001b[39m\u001b[39m\"\u001b[39m):\n\u001b[0;32m      <a href='vscode-notebook-cell:/d%3A/machine-learning/ml-basics-pytorch/notebooks/basic/Support%20Vector%20Machine.ipynb#X33sZmlsZQ%3D%3D?line=1'>2</a>\u001b[0m     \u001b[39m# Plot the two classes\u001b[39;00m\n\u001b[0;32m      <a href='vscode-notebook-cell:/d%3A/machine-learning/ml-basics-pytorch/notebooks/basic/Support%20Vector%20Machine.ipynb#X33sZmlsZQ%3D%3D?line=2'>3</a>\u001b[0m     \u001b[39mfor\u001b[39;00m i \u001b[39min\u001b[39;00m \u001b[39mrange\u001b[39m(\u001b[39mlen\u001b[39m(y)):\n\u001b[1;32m----> <a href='vscode-notebook-cell:/d%3A/machine-learning/ml-basics-pytorch/notebooks/basic/Support%20Vector%20Machine.ipynb#X33sZmlsZQ%3D%3D?line=3'>4</a>\u001b[0m         plt\u001b[39m.\u001b[39mscatter(X[i, \u001b[39m0\u001b[39m], X[i, \u001b[39m1\u001b[39m], color\u001b[39m=\u001b[39mcolors[y[i]])\n\u001b[0;32m      <a href='vscode-notebook-cell:/d%3A/machine-learning/ml-basics-pytorch/notebooks/basic/Support%20Vector%20Machine.ipynb#X33sZmlsZQ%3D%3D?line=5'>6</a>\u001b[0m     plt\u001b[39m.\u001b[39mtitle(title)\n\u001b[0;32m      <a href='vscode-notebook-cell:/d%3A/machine-learning/ml-basics-pytorch/notebooks/basic/Support%20Vector%20Machine.ipynb#X33sZmlsZQ%3D%3D?line=6'>7</a>\u001b[0m     plt\u001b[39m.\u001b[39mxlabel(\u001b[39m\"\u001b[39m\u001b[39mFeature 1\u001b[39m\u001b[39m\"\u001b[39m)\n",
      "\u001b[1;31mKeyError\u001b[0m: 0.0"
     ]
    }
   ],
   "source": [
    "y_pred = svm.predict(X).squeeze(-1).detach().numpy()\n",
    "print(y_pred)\n",
    "plot_dataset(X, y_pred.round(), title=\"Predicted classes\")"
   ]
  }
 ],
 "metadata": {
  "kernelspec": {
   "display_name": "Python 3.9.13 64-bit",
   "language": "python",
   "name": "python3"
  },
  "language_info": {
   "codemirror_mode": {
    "name": "ipython",
    "version": 3
   },
   "file_extension": ".py",
   "mimetype": "text/x-python",
   "name": "python",
   "nbconvert_exporter": "python",
   "pygments_lexer": "ipython3",
   "version": "3.9.13"
  },
  "orig_nbformat": 4,
  "vscode": {
   "interpreter": {
    "hash": "8100bb27ef6f27bb6b63ba202e13f32f0dffed430e6a4d162d3986e448f218b2"
   }
  }
 },
 "nbformat": 4,
 "nbformat_minor": 2
}
