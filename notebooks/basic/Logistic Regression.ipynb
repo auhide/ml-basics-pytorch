{
 "cells": [
  {
   "attachments": {},
   "cell_type": "markdown",
   "metadata": {},
   "source": [
    "# Logistic Regression with Gradient Descent in PyTorch\n",
    "___\n",
    "\n",
    "See the model implementation [here](https://github.com/auhide/ml-basics-pytorch/blob/main/algos/logistic_regression.py)."
   ]
  },
  {
   "cell_type": "markdown",
   "metadata": {},
   "source": [
    "## 1. Libraries"
   ]
  },
  {
   "cell_type": "code",
   "execution_count": 1,
   "metadata": {},
   "outputs": [],
   "source": [
    "import os\n",
    "import sys\n",
    "\n",
    "\n",
    "# Adding the path to the algorithms modules\n",
    "ALGOS_PATH = os.path.join(\"..\", \"algos\")\n",
    "sys.path.append(ALGOS_PATH)\n",
    "\n",
    "import torch\n",
    "from sklearn.datasets import make_classification\n",
    "from sklearn.model_selection import train_test_split\n",
    "import matplotlib.pyplot as plt\n",
    "\n",
    "from logistic_regression import LogisticRegression"
   ]
  },
  {
   "cell_type": "markdown",
   "metadata": {},
   "source": [
    "## 2. Dataset"
   ]
  },
  {
   "cell_type": "markdown",
   "metadata": {},
   "source": [
    "### 2.1. Generating the dataset"
   ]
  },
  {
   "cell_type": "code",
   "execution_count": 2,
   "metadata": {},
   "outputs": [
    {
     "name": "stdout",
     "output_type": "stream",
     "text": [
      "X shape: (150, 2)\n",
      "y shape: (150,)\n"
     ]
    }
   ],
   "source": [
    "# Creating a mock dataset with sklearn\n",
    "X, y = make_classification(\n",
    "    n_samples=150,\n",
    "    n_features=2,\n",
    "    n_informative=2,\n",
    "    n_redundant=0,\n",
    "    n_classes=2,\n",
    "    n_clusters_per_class=2,\n",
    "    random_state=42\n",
    ")\n",
    "print(f\"X shape: {X.shape}\")\n",
    "print(f\"y shape: {y.shape}\")"
   ]
  },
  {
   "cell_type": "markdown",
   "metadata": {},
   "source": [
    "### 2.2. Visualizing the dataset\n",
    "As we can see from the plot there are $2$ classes (*red* and *blue*), with some datapoints that are\n",
    "outliers."
   ]
  },
  {
   "cell_type": "code",
   "execution_count": 3,
   "metadata": {},
   "outputs": [
    {
     "data": {
      "image/png": "[encoded data removed]",
      "text/plain": [
       "<Figure size 432x288 with 1 Axes>"
      ]
     },
     "metadata": {
      "needs_background": "light"
     },
     "output_type": "display_data"
    }
   ],
   "source": [
    "def plot_dataset(X, y, colors={0: \"red\", 1: \"blue\"}, title=\"Dataset\"):\n",
    "    # Plot the two classes\n",
    "    for i in range(len(y)):\n",
    "        plt.scatter(X[i, 0], X[i, 1], color=colors[y[i]])\n",
    "\n",
    "    plt.title(title)\n",
    "    plt.xlabel(\"Feature 1\")\n",
    "    plt.ylabel(\"Feature 2\")\n",
    "    plt.show()\n",
    "\n",
    "\n",
    "plot_dataset(X, y, title=\"Dataset plot\")"
   ]
  },
  {
   "cell_type": "markdown",
   "metadata": {},
   "source": [
    "## 3. Training and evaluation"
   ]
  },
  {
   "attachments": {},
   "cell_type": "markdown",
   "metadata": {},
   "source": [
    "### 3.1. Training\n",
    "\n",
    "We will follow the format of the [Linear Regression with PyTorch](https://github.com/auhide/ml-basics-pytorch/blob/main/notebooks/basic/Linear%20Regression.ipynb) notebook.\n",
    "\n",
    "If we have a feature matrix $X \\in \\mathbb{R}^{m \\times n}$, a target vector $\\textbf{y} \\in \\mathbb{R}^{m \\times 1}$ and a weights vector $\\textbf{w} \\in \\mathbb{R}^{n \\times 1}$, making a prediction with *Logistic Regression* is defined as:\n",
    "$$ y_{pred} = \\sigma(f(\\textbf{w})) = \\sigma(X\\textbf{w}) $$\n",
    "where $\\sigma(x) = \\frac{1}{1 - e^x}$ is the *sigmoid*/*logistic* function. For further information about it you can see its [Wikipedia page](https://en.wikipedia.org/wiki/Sigmoid_function).\n",
    "\n",
    "Since we are going to do binary classification, the loss function for our model is:\n",
    "$$ L = \\begin{cases} -\\ln(y_{pred_i}) && \\text{if } y_i = 1 \\\\ - \\ln(1 - y_{pred_i}) && \\text{if } y_i = 0 \\end{cases} $$\n",
    "\n",
    "This formula can be summarized into a single line, by using the values of $\\textbf{y}$:\n",
    "$$ L = \\frac{1}{m} \\sum_{i=0}^{m}{y_i \\ln(y_{pred_i}) + (1 - y_i)\\ln(1 - y_{pred_i})} $$\n",
    "it is called the *Log Likelihood Loss*.\n",
    "\n",
    "In vague terms, we want to maximize the likelihood that our predicted values $\\textbf{y}_{pred}$ are closer to the original values $\\textbf{y}$.\n",
    "$$ \\max_{\\textbf{w}} L $$\n",
    "\n",
    "But since in *PyTorch* [*autograd*](https://pytorch.org/tutorials/beginner/blitz/autograd_tutorial.html) is set up to minimize functions, we define our optimization problem as:\n",
    "$$ \\min_{\\textbf{w}} -L = \\min_{\\textbf{w}} - \\frac{1}{m} \\sum_{i=0}^{m}{y_i \\ln(y_{pred_i}) + (1 - y_i)\\ln(1 - y_{pred_i})}$$\n",
    "\n",
    "This new optimization task can be read as minimizing the *Negative Log Likelihood Loss* (*NLLL*), with respect to $\\textbf{w}$.\n",
    "You can see its implementation in the method `_log_likelihood_loss()` of [this file](https://github.com/auhide/ml-basics-pytorch/blob/main/algos/logistic_regression.py).\n",
    "\n",
    "After we've defined our goal, we can use *Gradient Descent* (*GD*) with which we are going to change our weights vector $\\textbf{w}$:\n",
    "$$ \\mathfrak{L} = -L $$\n",
    "\n",
    "$$ \\textbf{w}_{t+1} = \\textbf{w}_{t} - \\alpha \\nabla_{\\textbf{w}}\\mathfrak{L} $$\n",
    "where $t$ is the timestep, $\\alpha$ is the learning rate, $\\nabla_{\\textbf{w}}\\mathfrak{L}$ is the gradient of the loss function, with respect to $\\textbf{w}$.\n",
    "\n",
    "All this can be seen in the method `fit()` of [this file](https://github.com/auhide/ml-basics-pytorch/blob/main/algos/logistic_regression.py)."
   ]
  },
  {
   "cell_type": "code",
   "execution_count": 4,
   "metadata": {},
   "outputs": [
    {
     "name": "stderr",
     "output_type": "stream",
     "text": [
      "100%|██████████| 400/400 [00:00<00:00, 665.33it/s]"
     ]
    },
    {
     "name": "stdout",
     "output_type": "stream",
     "text": [
      "Loss: 0.27\n"
     ]
    },
    {
     "name": "stderr",
     "output_type": "stream",
     "text": [
      "\n"
     ]
    }
   ],
   "source": [
    "X, y = torch.Tensor(X), torch.Tensor(y).unsqueeze(-1)\n",
    "\n",
    "X_train, X_valid, y_train, y_valid = train_test_split(\n",
    "    X, y, \n",
    "    test_size=0.2, random_state=42\n",
    ")\n",
    "\n",
    "regressor = LogisticRegression()\n",
    "regressor.fit(X_train, y_train, l_rate=1e-2, iters=400)"
   ]
  },
  {
   "cell_type": "markdown",
   "metadata": {},
   "source": [
    "### 3.2. Model evaluation"
   ]
  },
  {
   "cell_type": "code",
   "execution_count": 5,
   "metadata": {},
   "outputs": [
    {
     "name": "stdout",
     "output_type": "stream",
     "text": [
      "Validation loss: 0.23\n"
     ]
    },
    {
     "data": {
      "image/png": "[encoded data removed]",
      "text/plain": [
       "<Figure size 432x288 with 1 Axes>"
      ]
     },
     "metadata": {
      "needs_background": "light"
     },
     "output_type": "display_data"
    }
   ],
   "source": [
    "valid_loss = regressor.evaluate(X_valid, y_valid)\n",
    "print(f\"Validation loss: {valid_loss:.2f}\")\n",
    "\n",
    "# Generating a prediction and using it for the coloring of the plot.\n",
    "y_pred = regressor.predict(X).squeeze(-1).detach().numpy()\n",
    "plot_dataset(X, y_pred.round(), title=\"Predicted classes\")"
   ]
  },
  {
   "cell_type": "markdown",
   "metadata": {},
   "source": [
    "As it can be seen if we compare the two plots, the predicted classes are almost\n",
    "identical to the original ones, except for the outliers."
   ]
  }
 ],
 "metadata": {
  "kernelspec": {
   "display_name": "Python 3.9.13 64-bit",
   "language": "python",
   "name": "python3"
  },
  "language_info": {
   "codemirror_mode": {
    "name": "ipython",
    "version": 3
   },
   "file_extension": ".py",
   "mimetype": "text/x-python",
   "name": "python",
   "nbconvert_exporter": "python",
   "pygments_lexer": "ipython3",
   "version": "3.9.13"
  },
  "orig_nbformat": 4,
  "vscode": {
   "interpreter": {
    "hash": "8100bb27ef6f27bb6b63ba202e13f32f0dffed430e6a4d162d3986e448f218b2"
   }
  }
 },
 "nbformat": 4,
 "nbformat_minor": 2
}
