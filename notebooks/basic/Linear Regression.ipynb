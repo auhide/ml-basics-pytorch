{
 "cells": [
  {
   "attachments": {},
   "cell_type": "markdown",
   "id": "4ef542db",
   "metadata": {},
   "source": [
    "# Linear regression implemented with PyTorch\n",
    "___\n",
    "\n",
    "See the model implementation [here](https://github.com/auhide/ml-basics-pytorch/blob/main/algos/linear_regression.py)."
   ]
  },
  {
   "cell_type": "markdown",
   "id": "8ae2f513",
   "metadata": {},
   "source": [
    "## 1. Libraries"
   ]
  },
  {
   "cell_type": "code",
   "execution_count": 48,
   "id": "6234dbcb",
   "metadata": {},
   "outputs": [],
   "source": [
    "import os\n",
    "import sys\n",
    "\n",
    "\n",
    "# Adding the path to the algorithms modules\n",
    "ALGOS_PATH = os.path.join(\"..\", \"algos\")\n",
    "sys.path.append(ALGOS_PATH)\n",
    "\n",
    "import torch\n",
    "from sklearn.datasets import make_regression\n",
    "from sklearn.model_selection import train_test_split\n",
    "import matplotlib.pyplot as plt\n",
    "\n",
    "from linear_regression import LinearRegression"
   ]
  },
  {
   "cell_type": "markdown",
   "id": "63b4c643",
   "metadata": {},
   "source": [
    "## 2. Dataset"
   ]
  },
  {
   "cell_type": "markdown",
   "id": "00caf937",
   "metadata": {},
   "source": [
    "### 2.1. Generating the dataset"
   ]
  },
  {
   "cell_type": "code",
   "execution_count": 49,
   "id": "60f57be5",
   "metadata": {},
   "outputs": [
    {
     "name": "stdout",
     "output_type": "stream",
     "text": [
      "X shape: (150, 1)\n",
      "y shape: (150,)\n"
     ]
    }
   ],
   "source": [
    "# Creating a mock dataset with sklearn\n",
    "X, y = make_regression(\n",
    "    n_samples=150, \n",
    "    n_features=1, n_informative=1, \n",
    "    n_targets=1, \n",
    "    noise=10,\n",
    "    random_state=42\n",
    ")\n",
    "print(f\"X shape: {X.shape}\")\n",
    "print(f\"y shape: {y.shape}\")"
   ]
  },
  {
   "cell_type": "markdown",
   "id": "7942b3eb",
   "metadata": {},
   "source": [
    "### 2.2. Visualizing the dataset"
   ]
  },
  {
   "cell_type": "code",
   "execution_count": 50,
   "id": "893949fc",
   "metadata": {},
   "outputs": [
    {
     "data": {
      "image/png": "[encoded data removed]",
      "text/plain": [
       "<Figure size 432x288 with 1 Axes>"
      ]
     },
     "metadata": {
      "needs_background": "light"
     },
     "output_type": "display_data"
    }
   ],
   "source": [
    "plt.scatter(X[:, 0], y)\n",
    "plt.xlabel(\"Feature\")\n",
    "plt.ylabel(\"Target\")\n",
    "plt.show()"
   ]
  },
  {
   "cell_type": "markdown",
   "id": "7da1adc5",
   "metadata": {},
   "source": [
    "## 3. Training and evaluation"
   ]
  },
  {
   "cell_type": "markdown",
   "id": "19f6e63e",
   "metadata": {},
   "source": [
    "### 3.1. Training\n",
    "\n",
    "Here the model is trained using the *Ordinary Least Squares* (*OLS*) method.\n",
    "It is also possible to use *Gradient Descent* for training but *OLS* is faster for\n",
    "*Linear Regression*, since we are directly calculating the weights.\n",
    "\n",
    "\n",
    "Below I've derived the formula that is used in the [code](https://github.com/auhide/ml-basics-pytorch/blob/main/algos/linear_regression.py):\n",
    "$$ X \\in \\mathbb{R}^{m \\times n}, \\textbf{y} \\in \\mathbb{R}^{m \\times 1}, \\textbf{w} \\in \\mathbb{R}^{n \\times 1}$$\n",
    "where $X$ is the *feature matrix*, $\\textbf{y}$ is the *ground truth vector*, $\\textbf{w}$ is the *weights vector*\n",
    "\n",
    "A prediction is made as:\n",
    "$$ \\textbf{y}_{pred} = X\\textbf{w} $$\n",
    "Defining the *MSE* loss function:\n",
    "$$ L = \\frac{1}{2}(\\textbf{y}_{pred} - \\textbf{y})^2 $$\n",
    "\n",
    "Using *differential calculus* and the *chain rule*, we can then derive the final formula\n",
    "in these steps:\n",
    "\n",
    "If we define $(\\textbf{y}_{pred} - \\textbf{y}) = E$,\n",
    "$$\\frac{\\partial{L}}{\\partial{\\textbf{w}}} = \\frac{\\partial{L}}{\\partial{E}} \\frac{\\partial{E}}{\\partial{\\textbf{y}_{pred}}} \\frac{\\partial{\\textbf{y}_{pred}}}{\\partial{\\textbf{w}}} $$\n",
    "We then calculate each partial derivative at the right-hand side,\n",
    "$$ \\frac{\\partial{L}}{\\partial{E}} = (\\textbf{y}_{pred} - \\textbf{y}) $$\n",
    "$$ \\frac{\\partial{E}}{\\partial{\\textbf{y}_{pred}}} = \\textbf{1} $$\n",
    "$$ \\frac{\\partial{\\textbf{y}_{pred}}}{\\partial{\\textbf{w}}} = X $$\n",
    "\n",
    "Moving each of these to the original equation results in:\n",
    "$$ \\frac{\\partial{L}}{\\partial{\\textbf{w}}} = (\\textbf{y}_{pred} - \\textbf{y}) X $$\n",
    "\n",
    "Since we want to find the extremum (minimum) of the loss function, we want to solve this equation:\n",
    "$$ \\frac{\\partial{L}}{\\partial{\\textbf{w}}} = \\textbf{0} $$\n",
    "which is equal to\n",
    "$$ (\\textbf{y}_{pred} - \\textbf{y}) X = 0$$\n",
    "$$ (X\\textbf{w} - \\textbf{y}) X = 0 $$\n",
    "$$ X^\\intercal X\\textbf{w} - X^\\intercal \\textbf{y} = 0 $$\n",
    "$$ X^\\intercal X\\textbf{w} = X^\\intercal \\textbf{y} $$\n",
    "and finally defining $\\textbf{w}$, by multiplying each side by $(X^\\intercal X)^{-1}$,\n",
    "$$ \\textbf{w} = (X^\\intercal X)^{-1}X^\\intercal \\textbf{y} $$\n",
    "\n",
    "This last equation is used in the [code](https://github.com/auhide/ml-basics-pytorch/blob/main/algos/linear_regression.py), in `fit()`.\n",
    "\n",
    "Let's continue with the usage of the model class and its training."
   ]
  },
  {
   "cell_type": "code",
   "execution_count": 51,
   "id": "dc6e69ef",
   "metadata": {},
   "outputs": [],
   "source": [
    "X, y = torch.Tensor(X), torch.Tensor(y).unsqueeze(-1)\n",
    "\n",
    "# Splitting the dataset into training and validation sets\n",
    "X_train, X_valid, y_train, y_valid = train_test_split(X, y, test_size=0.2, random_state=42)\n",
    "\n",
    "regressor = LinearRegression()\n",
    "regressor.fit(X_train, y_train, use_bias=True)"
   ]
  },
  {
   "cell_type": "markdown",
   "id": "51b47aff",
   "metadata": {},
   "source": [
    "### 3.2. Model evaluation"
   ]
  },
  {
   "cell_type": "code",
   "execution_count": 52,
   "id": "d8233eb5",
   "metadata": {},
   "outputs": [
    {
     "name": "stdout",
     "output_type": "stream",
     "text": [
      "MSE Loss: 84.86\n"
     ]
    },
    {
     "data": {
      "image/png": "[encoded data removed]",
      "text/plain": [
       "<Figure size 432x288 with 1 Axes>"
      ]
     },
     "metadata": {
      "needs_background": "light"
     },
     "output_type": "display_data"
    }
   ],
   "source": [
    "\n",
    "loss = regressor.evaluate(X_valid, y_valid)\n",
    "print(f\"MSE Loss: {loss:.2f}\")\n",
    " \n",
    "# Visual representation of the model predictions\n",
    "y_pred = regressor.predict(X)\n",
    "plt.scatter(X[:, 0], y, label=\"Original\")\n",
    "plt.scatter(X[:, 0], y_pred, label=\"Predicted\")\n",
    "plt.xlabel(\"Feature\")\n",
    "plt.ylabel(\"Target\")\n",
    "\n",
    "plt.legend()\n",
    "plt.show()"
   ]
  }
 ],
 "metadata": {
  "kernelspec": {
   "display_name": "Python 3.9.13 64-bit",
   "language": "python",
   "name": "python3"
  },
  "language_info": {
   "codemirror_mode": {
    "name": "ipython",
    "version": 3
   },
   "file_extension": ".py",
   "mimetype": "text/x-python",
   "name": "python",
   "nbconvert_exporter": "python",
   "pygments_lexer": "ipython3",
   "version": "3.9.13"
  },
  "vscode": {
   "interpreter": {
    "hash": "8100bb27ef6f27bb6b63ba202e13f32f0dffed430e6a4d162d3986e448f218b2"
   }
  }
 },
 "nbformat": 4,
 "nbformat_minor": 5
}
