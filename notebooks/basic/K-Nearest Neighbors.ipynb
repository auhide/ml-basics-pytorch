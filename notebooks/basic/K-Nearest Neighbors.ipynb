{
 "cells": [
  {
   "attachments": {},
   "cell_type": "markdown",
   "metadata": {},
   "source": [
    "# K-Nearest Neighbors\n",
    "___\n",
    "\n",
    "See the model implementation [here](https://github.com/auhide/ml-basics-pytorch/blob/main/algos/basic/knn.py)."
   ]
  },
  {
   "attachments": {},
   "cell_type": "markdown",
   "metadata": {},
   "source": [
    "## 1. Libraries"
   ]
  },
  {
   "cell_type": "code",
   "execution_count": 1,
   "metadata": {},
   "outputs": [],
   "source": [
    "import os\n",
    "import sys\n",
    "\n",
    "\n",
    "# Adding the path to the algorithms modules\n",
    "ROOT_PATH = os.path.join(\"..\", \"..\", \"algos\", \"basic\")\n",
    "sys.path.append(ROOT_PATH)\n",
    "\n",
    "import torch\n",
    "from sklearn.datasets import make_blobs\n",
    "from sklearn.model_selection import train_test_split\n",
    "import matplotlib.pyplot as plt\n",
    "\n",
    "from knn import KNearestNeighborsClassifier"
   ]
  },
  {
   "attachments": {},
   "cell_type": "markdown",
   "metadata": {},
   "source": [
    "## 2. Dataset"
   ]
  },
  {
   "attachments": {},
   "cell_type": "markdown",
   "metadata": {},
   "source": [
    "### 2.1. Generating the dataset"
   ]
  },
  {
   "cell_type": "code",
   "execution_count": 12,
   "metadata": {},
   "outputs": [
    {
     "name": "stdout",
     "output_type": "stream",
     "text": [
      "X shape: (150, 2)\n",
      "y shape: (150,)\n"
     ]
    }
   ],
   "source": [
    "# Creating a mock dataset.\n",
    "X, y = make_blobs(\n",
    "    n_samples=150, centers=[(-2, -2), (0, 0)], cluster_std=0.8\n",
    ")\n",
    "\n",
    "# Setting all 0s to -1s, since that's expected by the binary SVM algorithm.\n",
    "y[y == 0] = -1\n",
    "\n",
    "print(f\"X shape: {X.shape}\")\n",
    "print(f\"y shape: {y.shape}\")"
   ]
  },
  {
   "attachments": {},
   "cell_type": "markdown",
   "metadata": {},
   "source": [
    "### 2.2. Plotting the dataset"
   ]
  },
  {
   "cell_type": "code",
   "execution_count": 13,
   "metadata": {},
   "outputs": [
    {
     "data": {
      "image/png": "[encoded data removed]",
      "text/plain": [
       "<Figure size 432x288 with 1 Axes>"
      ]
     },
     "metadata": {
      "needs_background": "light"
     },
     "output_type": "display_data"
    }
   ],
   "source": [
    "def plot_dataset(X, y, colors={-1: \"red\", 1: \"blue\"}, title=\"Dataset\"):\n",
    "    # Plot the two classes\n",
    "    for i in range(len(y)):\n",
    "        plt.scatter(X[i, 0], X[i, 1], color=colors[y[i]])\n",
    "\n",
    "    plt.title(title)\n",
    "    plt.xlabel(\"Feature 1\")\n",
    "    plt.ylabel(\"Feature 2\")\n",
    "\n",
    "\n",
    "plot_dataset(X, y, title=\"Dataset plot\")\n",
    "plt.show()"
   ]
  },
  {
   "attachments": {},
   "cell_type": "markdown",
   "metadata": {},
   "source": [
    "## 3. Training and evaluation"
   ]
  },
  {
   "attachments": {},
   "cell_type": "markdown",
   "metadata": {},
   "source": [
    "### 3.1. K-Nearest Neighbors algorithm\n",
    "In comparison to most ML algorithms, *KNN* doesn't have weights. It uses the training data directly and predicts based on it.\n",
    "As usual, let's define the inputs and outputs. The model expects a *feature matrix* $X \\in \\mathbb{R}^{m \\times n}$ and a *targets vector* $y \\in \\mathbb{R}^m$ (in our implementation the shape is actually $\\mathbb{R}^{m \\times 1}$).\n",
    "\n",
    "Each row vector in $X$ can be defined as\n",
    "$$ \n",
    "\\textbf{x}_i = \\left[ {\\begin{array}{cc}\n",
    "        x_{1} & \\dots & x_{n}\n",
    "    \\end{array} } \n",
    "\\right] \n",
    "$$\n",
    "where $i \\in \\left[ 1, m \\right]$. If we want to predict the class of an input vector of features $\\textbf{x}_{in}$ , we compare the input vector to each $\\textbf{x}_i$ using Euclidean/Manhattan distance as a metric. Then, the top $k$ smallest distances are selected and based on them the class of $\\textbf{x}_{in}$ is predicted. \n",
    "\n",
    "Therefore, for each $\\textbf{x}_i$ we do this:\n",
    "$$ \\textbf{x}_{distances} = \\left[ {\\begin{array}{cc}\n",
    "      || \\textbf{x}_{in} - \\textbf{x}_1 || \\\\\n",
    "      \\vdots \\\\\n",
    "      || \\textbf{x}_{in} - \\textbf{x}_n || \\\\\n",
    "    \\end{array} } \n",
    "  \\right] \n",
    "$$\n",
    "and then get the indices of the top $k$ smallest values (top $k$ closest feature vectors in the training subset). \n",
    "Here $||.||$ may be either *Euclidean* or *Manhattan* distance.\n",
    "\n",
    "Based on these indices, we take their respective classes from $y$ and construct the vector $\\textbf{y}_{topk}$\n",
    "$$ \\textbf{y}_{topk} = \\left[ {\\begin{array}{cc}\n",
    "      y_1 \\\\\n",
    "      \\vdots \\\\\n",
    "      y_k \\\\\n",
    "    \\end{array} } \n",
    "  \\right] \n",
    "$$\n",
    "Afterwards, we get the $mode$ of $\\textbf{y}_{topk}$, which leaves us with the predicted class (the one that has occurred the most in $\\textbf{y}_{topk}$).\n",
    "\n",
    "In our implementation this may happen $l$ times, where $l$ is the number of $\\textbf{x}_{in}$ vectors, since there might be many predictions to be made. "
   ]
  },
  {
   "cell_type": "code",
   "execution_count": 17,
   "metadata": {},
   "outputs": [
    {
     "name": "stdout",
     "output_type": "stream",
     "text": [
      "Fitting model to the dataset...\n",
      "Training accuracy: 0.94\n"
     ]
    }
   ],
   "source": [
    "X, y = torch.Tensor(X), torch.Tensor(y).unsqueeze(-1)\n",
    "\n",
    "X_train, X_valid, y_train, y_valid = train_test_split(\n",
    "    X, y, \n",
    "    test_size=0.1, random_state=42\n",
    ")\n",
    "\n",
    "print(\"Fitting model to the dataset...\")\n",
    "knn = KNearestNeighborsClassifier(k=5, metric=\"l2\")\n",
    "train_accuracy = knn.fit(X_train, y_train)\n",
    "print(f\"Training accuracy: {train_accuracy:.2f}\")"
   ]
  },
  {
   "attachments": {},
   "cell_type": "markdown",
   "metadata": {},
   "source": [
    "### 3.2. Model Evaluation"
   ]
  },
  {
   "cell_type": "code",
   "execution_count": 18,
   "metadata": {},
   "outputs": [
    {
     "name": "stdout",
     "output_type": "stream",
     "text": [
      "1.0\n"
     ]
    }
   ],
   "source": [
    "eval_accuracy = knn.evaluate(X_valid, y_valid)\n",
    "print(eval_accuracy)"
   ]
  },
  {
   "cell_type": "code",
   "execution_count": 21,
   "metadata": {},
   "outputs": [
    {
     "data": {
      "text/plain": [
       "[]"
      ]
     },
     "execution_count": 21,
     "metadata": {},
     "output_type": "execute_result"
    },
    {
     "data": {
      "image/png": "[encoded data removed]",
      "text/plain": [
       "<Figure size 432x288 with 1 Axes>"
      ]
     },
     "metadata": {
      "needs_background": "light"
     },
     "output_type": "display_data"
    }
   ],
   "source": [
    "y_pred = knn.predict(X).squeeze(-1).detach().numpy()\n",
    "\n",
    "plot_dataset(X, y_pred.round(), title=\"Predicted classes\")\n",
    "plt.plot()"
   ]
  },
  {
   "attachments": {},
   "cell_type": "markdown",
   "metadata": {},
   "source": [
    "As we can see, the model can't predict the outliers of each class, since they are somewhat intertwined with each other.\n",
    "Nevertheless, most of the datapoints are correctly predicted."
   ]
  }
 ],
 "metadata": {
  "kernelspec": {
   "display_name": "Python 3",
   "language": "python",
   "name": "python3"
  },
  "language_info": {
   "codemirror_mode": {
    "name": "ipython",
    "version": 3
   },
   "file_extension": ".py",
   "mimetype": "text/x-python",
   "name": "python",
   "nbconvert_exporter": "python",
   "pygments_lexer": "ipython3",
   "version": "3.9.13"
  },
  "orig_nbformat": 4
 },
 "nbformat": 4,
 "nbformat_minor": 2
}
